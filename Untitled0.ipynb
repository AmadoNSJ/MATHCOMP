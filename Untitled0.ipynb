{
  "nbformat": 4,
  "nbformat_minor": 0,
  "metadata": {
    "colab": {
      "provenance": []
    },
    "kernelspec": {
      "name": "python3",
      "display_name": "Python 3"
    },
    "language_info": {
      "name": "python"
    }
  },
  "cells": [
    {
      "cell_type": "markdown",
      "source": [
        "#Teoria de conjuntos"
      ],
      "metadata": {
        "id": "-k_0npivd_Fd"
      }
    },
    {
      "cell_type": "code",
      "source": [],
      "metadata": {
        "id": "kK8pEJwFfn0r"
      },
      "execution_count": null,
      "outputs": []
    },
    {
      "cell_type": "code",
      "execution_count": 1,
      "metadata": {
        "id": "n8NzZ27yc_0L"
      },
      "outputs": [],
      "source": []
    }
  ]
}